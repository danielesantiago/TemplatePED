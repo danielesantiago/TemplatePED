{
 "cells": [
  {
   "cell_type": "markdown",
   "id": "3d7af1c6",
   "metadata": {},
   "source": [
    "## Template"
   ]
  },
  {
   "cell_type": "markdown",
   "id": "4d4e0525",
   "metadata": {},
   "source": [
    "O problema de [Insira o Tipo de Problema, por exemplo, \"fraudes em transações com cartões de crédito\"] é uma preocupação significativa para [Insira o Setor, por exemplo, \"instituições financeiras\"]. Essas situações podem causar prejuízos consideráveis tanto para os consumidores quanto para as próprias instituições. A detecção desses padrões é desafiadora, dada a sofisticação dos métodos utilizados pelos fraudadores. Segundo [Insira a Fonte de Dados, por exemplo, \"dados da Serasa Experian\"], [Insira Estatísticas Relevantes, por exemplo, \"cerca de 12,1 milhões de pessoas foram vítimas de fraude financeira no último ano no Brasil, representando um prejuízo de 1,8 bilhão de reais\"].\n"
   ]
  },
  {
   "cell_type": "markdown",
   "id": "aae60bf5",
   "metadata": {},
   "source": [
    "<center>\n",
    "<img src = \"https://raw.githubusercontent.com/danielesantiago/FraudClassifier/master/reports/figures/fraud.jpg\" width = \"60%\">\n",
    "<a href=\"https://www.freepik.com/free-vector/cyber-fraud-with-desktop_60926711.htm#query=fraud&position=40&from_view=search&track=sph\">Image by studiogstock</a> on Freepik\n",
    "</center>"
   ]
  },
  {
   "cell_type": "markdown",
   "id": "a09c3a45",
   "metadata": {},
   "source": [
    "\n",
    "A identificação de [Insira o Tipo de Fraude] pode ser complexa, pois as transações legítimas e as fraudulentas muitas vezes se assemelham. Além disso, [Insira Mais Detalhes do Problema, por exemplo, \"as fraudes ocorrem em uma ampla gama de valores e locais, dificultando a identificação de um padrão claro\"]."
   ]
  },
  {
   "cell_type": "markdown",
   "id": "37aa4b7c",
   "metadata": {},
   "source": [
    "### Business Understanding"
   ]
  },
  {
   "cell_type": "markdown",
   "id": "6114c331",
   "metadata": {},
   "source": [
    "[Descreva o contexto e a importância do seu projeto. Por exemplo, \"No contexto atual de crescente volume de dados, entender padrões complexos em comportamentos de consumidores é crucial para estratégias de marketing eficazes.\"]\n",
    "\n",
    "**Tipos de Análise Realizados:**\n",
    "- [Insira o tipo de análise, por exemplo, \"Análise de Sentimento\"]\n",
    "- [Outro tipo de análise, por exemplo, \"Tendências de Mercado\"]\n",
    "- [Mais um tipo, por exemplo, \"Padrões de Comportamento do Consumidor\"]\n",
    "\n",
    "**Principais Indicadores Chave de Desempenho:**\n",
    "- [Primeiro indicador, por exemplo, \"Taxa de Conversão\"]\n",
    "- [Segundo indicador, por exemplo, \"Retenção de Clientes\"]\n",
    "- [Terceiro indicador, por exemplo, \"Satisfação do Cliente\"]"
   ]
  },
  {
   "cell_type": "markdown",
   "id": "cf02c1ed",
   "metadata": {},
   "source": [
    "### Importando os pacotes necessários"
   ]
  },
  {
   "cell_type": "code",
   "execution_count": 1,
   "id": "80160c3f",
   "metadata": {},
   "outputs": [],
   "source": [
    "# Bibliotecas padrão\n",
    "import pandas as pd\n",
    "import numpy as np\n",
    "import matplotlib.pyplot as plt\n",
    "import seaborn as sns\n",
    "import mlflow "
   ]
  },
  {
   "cell_type": "code",
   "execution_count": 2,
   "id": "3ecca7cb",
   "metadata": {},
   "outputs": [],
   "source": [
    "df = pd.read_excel(\"data/raw/dados.xlsx\")"
   ]
  },
  {
   "cell_type": "markdown",
   "id": "dc419673",
   "metadata": {},
   "source": [
    "## **Análise dos Dados**\n",
    "\n",
    "Esta seção fornece uma visão detalhada da estrutura e do significado dos dados que estão sendo analisados.\n",
    "\n",
    "### **Dicionário de Variáveis**\n",
    "\n",
    "- **`[Insira Nome da Variável, por exemplo, 'score_1']`**: \n",
    "  - **Descrição:** [Insira Descrição]\n",
    "  - **Finalidade:** [Insira Finalidade]\n",
    "\n",
    "Repita para outras variáveis...\n",
    "\n"
   ]
  },
  {
   "cell_type": "markdown",
   "id": "ab4dec2a",
   "metadata": {},
   "source": [
    "### Análise exploratória dos dados"
   ]
  },
  {
   "cell_type": "code",
   "execution_count": 3,
   "id": "d84841de",
   "metadata": {},
   "outputs": [],
   "source": [
    "# Ver as cinco primeiras entradas\n",
    "df.head()"
   ]
  },
  {
   "cell_type": "markdown",
   "id": "ecc97cfa",
   "metadata": {},
   "source": [
    "É possível notar que:\n",
    "\n",
    "[Insira os insights obtidos]"
   ]
  },
  {
   "cell_type": "code",
   "execution_count": 4,
   "id": "0b1d7db4",
   "metadata": {},
   "outputs": [],
   "source": [
    "# Visualizar o tamanho do dataframe\n",
    "print(f\"Entradas: {df.shape[0]}\")\n",
    "print(f\"Colunas: {df.shape[1]}\")"
   ]
  },
  {
   "cell_type": "code",
   "execution_count": 5,
   "id": "95fef75d",
   "metadata": {},
   "outputs": [],
   "source": [
    "# Extrair nome das colunas\n",
    "df.columns"
   ]
  },
  {
   "cell_type": "code",
   "execution_count": 6,
   "id": "3f3f4083",
   "metadata": {
    "scrolled": false
   },
   "outputs": [],
   "source": [
    "# Extrair o tipo das variáveis\n",
    "df.dtypes"
   ]
  },
  {
   "cell_type": "code",
   "execution_count": 7,
   "id": "d2c1f3e5",
   "metadata": {
    "scrolled": false
   },
   "outputs": [],
   "source": [
    "# Porcentagem de itens nulos\n",
    "(df.isnull().sum()/df.shape[0] * 100).round(2)"
   ]
  },
  {
   "cell_type": "markdown",
   "id": "1eda6fa2",
   "metadata": {},
   "source": [
    "### ANÁLISE EXPLORATÓRIA (EDA) UNIVARIADA"
   ]
  },
  {
   "cell_type": "markdown",
   "id": "5a835e27",
   "metadata": {},
   "source": [
    "\n",
    "- **Variáveis Categóricas:** [Descreva a análise para variáveis categóricas]\n",
    "- **Variáveis Numéricas:** [Descreva a análise para variáveis numéricas]"
   ]
  },
  {
   "cell_type": "markdown",
   "id": "4d29225b",
   "metadata": {},
   "source": [
    "### ANÁLISE EXPLORATÓRIA (EDA) BIVARIADA"
   ]
  },
  {
   "cell_type": "markdown",
   "id": "9f2c887f",
   "metadata": {},
   "source": [
    "- [Insira Hipótese, por exemplo, \"Há alguma relação entre entrega dos documentos e a incidência de fraude?\"]\n",
    "- [Repita para outras hipóteses relevantes...]"
   ]
  },
  {
   "cell_type": "markdown",
   "id": "228e96db",
   "metadata": {},
   "source": [
    "### Divisão do Conjunto de Dados\n",
    "Antes de realizar o pré-processamento dos dados, irei separar o conjunto de teste que validará a eficácia do modelo. É importante que o mesmo seja capaz de generalizar para evitar problemas como o underfitting, que ocorre quando o modelo tem baixo desempenho tanto no treinamento quanto na validação, ou o overfitting, que ocorre quando o modelo se adapta demasiadamente ao treinamento e não consegue generalizar para novos dados. A separação antes da padronização ocorre para que os dados de teste não tenham contato com os de treino e validação, simulando uma situação real."
   ]
  },
  {
   "cell_type": "code",
   "execution_count": 8,
   "id": "0005c46c",
   "metadata": {},
   "outputs": [],
   "source": [
    "def split_df(df):\n",
    "    df_train, df_test = train_test_split(df, test_size=0.2, random_state=42)\n",
    "    return df_train, df_test\n",
    "\n",
    "df_train, df_test = split_df(df)\n",
    "\n",
    "X_train = df_train.drop('fraude', axis=1)\n",
    "y_train = df_train.fraude\n",
    "\n",
    "X_test = df_test.drop('fraude', axis=1)\n",
    "y_test = df_test.fraude"
   ]
  },
  {
   "cell_type": "markdown",
   "id": "1d50f16c",
   "metadata": {},
   "source": [
    "### **Pré-processamento dos Dados**\n",
    "\n",
    "[Descreva as etapas de pré-processamento realizadas no projeto.]"
   ]
  },
  {
   "cell_type": "markdown",
   "id": "f2644116",
   "metadata": {},
   "source": [
    "### Modelo Baseline\n",
    "\n",
    "[Descreva o modelo baseline e apresente os resultados iniciais. Inclua um gráfico, se relevante.]\n",
    "\n",
    "\n"
   ]
  },
  {
   "cell_type": "markdown",
   "id": "7fe7ab35",
   "metadata": {},
   "source": [
    "### **Treinamento de Algoritmos de Machine Learning e Ajuste de Hiperparâmetros**\n",
    "\n",
    "[Descreva os modelos testados e os hiperparâmetros ajustados.]"
   ]
  },
  {
   "cell_type": "markdown",
   "id": "1484c268",
   "metadata": {},
   "source": [
    "### Avaliação do Modelo Utilizando os Dados de Teste\n",
    "No começo do projeto, realizamos um split nos dados para que tivéssemos 2 conjuntos: Um de treino e um de teste. Agora que já exploramos, preparamos os dados e treinamos o modelo, é hora de descobrirmos o potencial do modelo com os dados de teste.\n",
    "\n",
    "[Apresente os resultados da avaliação do modelo com os dados de teste.]"
   ]
  },
  {
   "cell_type": "markdown",
   "id": "d5f14344",
   "metadata": {},
   "source": [
    "### SHAP"
   ]
  },
  {
   "cell_type": "markdown",
   "id": "7997608c",
   "metadata": {},
   "source": [
    "SHAP é o pacote Python mais poderoso para compreender e depurar seus modelos. Pode nos dizer como cada feature do modelo contribuiu para uma previsão individual. Ao agregar valores SHAP, também podemos compreender tendências em múltiplas previsões."
   ]
  },
  {
   "cell_type": "markdown",
   "id": "68e903fd",
   "metadata": {},
   "source": [
    "[Inclua uma análise SHAP para entender a contribuição de cada variável nas previsões do modelo.]"
   ]
  },
  {
   "cell_type": "markdown",
   "id": "36545e85",
   "metadata": {},
   "source": [
    "\n",
    "## Conclusão Geral:\n",
    "\n",
    "Após uma análise aprofundada das métricas de desempenho e valuation financeiro de ambos os modelos, os seguintes pontos foram observados:\n",
    "\n",
    "[Apresente uma conclusão geral baseada nas métricas de desempenho e avaliação financeira dos modelos.]\n"
   ]
  }
 ],
 "metadata": {
  "kernelspec": {
   "display_name": "Python 3 (ipykernel)",
   "language": "python",
   "name": "python3"
  },
  "language_info": {
   "codemirror_mode": {
    "name": "ipython",
    "version": 3
   },
   "file_extension": ".py",
   "mimetype": "text/x-python",
   "name": "python",
   "nbconvert_exporter": "python",
   "pygments_lexer": "ipython3",
   "version": "3.10.11"
  }
 },
 "nbformat": 4,
 "nbformat_minor": 5
}
